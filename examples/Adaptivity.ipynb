{
 "cells": [
  {
   "cell_type": "code",
   "execution_count": null,
   "metadata": {},
   "outputs": [],
   "source": [
    "using BasisFunctions, FrameFun, Plots, DomainSets, LinearAlgebra\n",
    "gr()"
   ]
  },
  {
   "cell_type": "markdown",
   "metadata": {},
   "source": [
    "# Introduction "
   ]
  },
  {
   "cell_type": "markdown",
   "metadata": {},
   "source": [
    "Using frames, the behaviour of the coefficients is not predictable. This is easily seen comparing a Chebyshev extension approximation with a Chebyshev series approximation."
   ]
  },
  {
   "cell_type": "code",
   "execution_count": null,
   "metadata": {},
   "outputs": [],
   "source": [
    "CE = FrameFun.ExtensionFramePlatform(ModelPlatform(ChebyshevT(1,-2,2)), -1..1)\n",
    "CS = ChebyshevPlatform()"
   ]
  },
  {
   "cell_type": "markdown",
   "metadata": {},
   "source": [
    "We approximate $f(x)=e^x$ on `0..1`,"
   ]
  },
  {
   "cell_type": "code",
   "execution_count": null,
   "metadata": {},
   "outputs": [],
   "source": [
    "f = exp;"
   ]
  },
  {
   "cell_type": "markdown",
   "metadata": {},
   "source": [
    "Using two approximation sizes"
   ]
  },
  {
   "cell_type": "code",
   "execution_count": null,
   "metadata": {},
   "outputs": [],
   "source": [
    "N1 = 20; N2 = 40;"
   ]
  },
  {
   "cell_type": "markdown",
   "metadata": {},
   "source": [
    "and see that,  for a basis,  coefficient size goes down to machine precision, for a frame, coefficients go down; but they do not reach a platform. "
   ]
  },
  {
   "cell_type": "code",
   "execution_count": null,
   "metadata": {},
   "outputs": [],
   "source": [
    "plot(abs.(coefficients(Fun(f, CS, N1))).+eps(),yscale=:log10,layout=2,ylims=[1e-16,10],label=\"Small\",title=\"Series\",size=(900,300),linestyle=:dash,marker=:dot)\n",
    "scatter!(abs.(coefficients(Fun(f, CS, N2))).+eps(),yscale=:log10,label=\"Large\",legend=:topright,linestyle=:dash)\n",
    "plot!(abs.(coefficients(Fun(f, CE, N1))).+eps(),yscale=:log10,subplot=2,ylims=[1e-16,10],label=\"Small\",title=\"Extension\",linestyle=:dash,marker=:dot)\n",
    "scatter!(abs.(coefficients(Fun(f, CE, N2))).+eps(),yscale=:log10,subplot=2,label=\"Large\",legend=:bottomleft)"
   ]
  },
  {
   "cell_type": "markdown",
   "metadata": {},
   "source": [
    "# Smooting"
   ]
  },
  {
   "cell_type": "markdown",
   "metadata": {},
   "source": [
    "In this section we approximate the exponential function with a Fourier extension"
   ]
  },
  {
   "cell_type": "code",
   "execution_count": null,
   "metadata": {},
   "outputs": [],
   "source": [
    "f = exp\n",
    "P = FourierExtensionPlatform(0..0.5)"
   ]
  },
  {
   "cell_type": "markdown",
   "metadata": {},
   "source": [
    "Smoothing penalizes the high frequencies. In stead of solving `Ax=b` in a least squares sense, we solve $AD^{-1}y=b$ and $x=D^{-1}y$. Such that $\\|Dx\\|$ is minimized while solving `Ax=b`. D is here a diagonal operator where diagonal entries depend on the frequency. The dependency of the weights on the frequency is given by"
   ]
  },
  {
   "cell_type": "code",
   "execution_count": null,
   "metadata": {},
   "outputs": [],
   "source": [
    "function scaling(dict, idx)\n",
    "    l = abs(value(native_index(dict, idx)))\n",
    "    1e-4+l+l^2\n",
    "end;"
   ]
  },
  {
   "cell_type": "markdown",
   "metadata": {},
   "source": [
    "We solve the approximation problem two times. One in the ordinary least squares sense and one penalizing the high frequencies."
   ]
  },
  {
   "cell_type": "code",
   "execution_count": null,
   "metadata": {},
   "outputs": [],
   "source": [
    "F = Fun(f, P, 61; solverstyle=AZStyle())\n",
    "FS = Fun(f, P, 61; solverstyle=AZSmoothStyle(), scaling=scaling)"
   ]
  },
  {
   "cell_type": "code",
   "execution_count": null,
   "metadata": {},
   "outputs": [],
   "source": [
    "scatter(;layout=(1,3),size=(900,300))\n",
    "plot!(F,subplot=1,label=\"regular\",plot_ext=true,legend=:topleft)\n",
    "plot!(FS,subplot=1,label=\"smooth\",plot_ext=true)\n",
    "plot!(F,f,subplot=2,label=\"regular\",plot_ext=true,legend=:topleft)\n",
    "plot!(FS,f,subplot=2,label=\"smooth\",plot_ext=true)\n",
    "scatter!(abs.(coefficients(F)), yscale=:log10,subplot=3,legend=false)\n",
    "scatter!(abs.(coefficients(FS)), yscale=:log10,subplot=3)"
   ]
  },
  {
   "cell_type": "code",
   "execution_count": null,
   "metadata": {},
   "outputs": [],
   "source": []
  },
  {
   "cell_type": "markdown",
   "metadata": {},
   "source": [
    "Again, using more degrees of freedom does not lead to a smallest coefficient size that is smaller $\\mathcal O(10^{-9})$"
   ]
  },
  {
   "cell_type": "code",
   "execution_count": null,
   "metadata": {},
   "outputs": [],
   "source": [
    "F = Fun(f, P, 101; solverstyle=AZStyle())\n",
    "FS = Fun(f, P, 101; solverstyle=AZSmoothStyle(),scaling=scaling)"
   ]
  },
  {
   "cell_type": "code",
   "execution_count": null,
   "metadata": {},
   "outputs": [],
   "source": [
    "scatter(;layout=(1,3),size=(900,300))\n",
    "plot!(F,subplot=1,label=\"regular\",plot_ext=true,legend=:topleft)\n",
    "plot!(FS,subplot=1,label=\"smooth\",plot_ext=true)\n",
    "plot!(F,f,subplot=2,label=\"regular\",plot_ext=true,legend=:topleft)\n",
    "plot!(FS,f,subplot=2,label=\"smooth\",plot_ext=true)\n",
    "scatter!(abs.(coefficients(F)), yscale=:log10,subplot=3,legend=false)\n",
    "scatter!(abs.(coefficients(FS)), yscale=:log10,subplot=3)"
   ]
  },
  {
   "cell_type": "code",
   "execution_count": null,
   "metadata": {},
   "outputs": [],
   "source": []
  },
  {
   "cell_type": "markdown",
   "metadata": {},
   "source": [
    "# Adaptive approximation"
   ]
  },
  {
   "cell_type": "markdown",
   "metadata": {},
   "source": [
    "We study the behaviour of adaptive frame approximation using platforms. "
   ]
  },
  {
   "cell_type": "markdown",
   "metadata": {},
   "source": [
    "## 1. Function with singularity just outside the interval of interest"
   ]
  },
  {
   "cell_type": "markdown",
   "metadata": {},
   "source": [
    "We choose to approximate a function with a singularity to the right of the interval of interest (`0.0..0.5`). "
   ]
  },
  {
   "cell_type": "code",
   "execution_count": null,
   "metadata": {},
   "outputs": [],
   "source": [
    "f = x->.1/(x-.5-1e-1);"
   ]
  },
  {
   "cell_type": "markdown",
   "metadata": {},
   "source": [
    "The function is approximated using a Fourier Extension platform. "
   ]
  },
  {
   "cell_type": "code",
   "execution_count": null,
   "metadata": {},
   "outputs": [],
   "source": [
    "P = FourierExtensionPlatform(0.0..0.5);"
   ]
  },
  {
   "cell_type": "code",
   "execution_count": null,
   "metadata": {},
   "outputs": [],
   "source": []
  },
  {
   "cell_type": "markdown",
   "metadata": {},
   "source": [
    "We use different stopping criteria and evaluate the properties of the resulting approximations. "
   ]
  },
  {
   "cell_type": "code",
   "execution_count": null,
   "metadata": {},
   "outputs": [],
   "source": [
    "ResidualStyle(), FNAStyle()"
   ]
  },
  {
   "cell_type": "markdown",
   "metadata": {},
   "source": [
    "### a) Using the ResidualStyle"
   ]
  },
  {
   "cell_type": "markdown",
   "metadata": {},
   "source": [
    "The `ResidualStyle()` `criterion` measures the norm of the residual of the system Ax=B; and compares it with a tolerance `tol`. "
   ]
  },
  {
   "cell_type": "code",
   "execution_count": null,
   "metadata": {},
   "outputs": [],
   "source": [
    "FRES = Fun(f, P, criterion = ResidualStyle(), threshold=1e-10,verbose=true)"
   ]
  },
  {
   "cell_type": "code",
   "execution_count": null,
   "metadata": {},
   "outputs": [],
   "source": []
  },
  {
   "cell_type": "markdown",
   "metadata": {},
   "source": [
    "### b) Using the FNAStyle"
   ]
  },
  {
   "cell_type": "markdown",
   "metadata": {},
   "source": [
    "The `FNAStyle()` `criterion` checks two subcriteria. Firstly, it measures the norm of the coefficients. The $\\ell^2$-norm of the coefficients should be smaller than `FNAeta`*$\\|f\\|$. Secondly, we measure the residual of the system Ax=B is measured; and compare it with a tolerance `tol` (as in `ResidualStyle()`).  "
   ]
  },
  {
   "cell_type": "code",
   "execution_count": null,
   "metadata": {},
   "outputs": [],
   "source": [
    "FFNA = Fun(f, P, criterion = FNAStyle(), FNAeta=5, threshold=1e-10,verbose=true)"
   ]
  },
  {
   "cell_type": "code",
   "execution_count": null,
   "metadata": {},
   "outputs": [],
   "source": []
  },
  {
   "cell_type": "markdown",
   "metadata": {},
   "source": [
    "### Comparison"
   ]
  },
  {
   "cell_type": "markdown",
   "metadata": {},
   "source": [
    "`FNAStyle` is more restrictive than `ResidualStyle`; therefore, it is no suprise that `FNAStyle` gives an approximation with more degrees of freedom. "
   ]
  },
  {
   "cell_type": "code",
   "execution_count": null,
   "metadata": {},
   "outputs": [],
   "source": [
    "length(FRES), length(FFNA) "
   ]
  },
  {
   "cell_type": "markdown",
   "metadata": {},
   "source": [
    "At the upside, coefficients are smaller. This gives a more robust approximation. Here this is visible by the size of the extension of the approximation. The extension is a lot larger using `ResidualStyle`.  "
   ]
  },
  {
   "cell_type": "code",
   "execution_count": null,
   "metadata": {},
   "outputs": [],
   "source": [
    "plot(FFNA; plot_ext=true,label=\"FNA\",layout=2,size=(900,300))\n",
    "plot!(FRES; plot_ext=true,label=\"RES\",legend=:topleft)\n",
    "plot!(FFNA,f; plot_ext=true,label=\"FNA\",subplot=2)\n",
    "plot!(FRES,f; plot_ext=true,label=\"RES\",legend=:topleft,subplot=2)"
   ]
  },
  {
   "cell_type": "markdown",
   "metadata": {},
   "source": [
    "## 2. Function with spike and spike weighted sum/enriched frame with spike"
   ]
  },
  {
   "cell_type": "markdown",
   "metadata": {},
   "source": [
    "Does not work, function is too difficult, or results similar"
   ]
  },
  {
   "cell_type": "code",
   "execution_count": null,
   "metadata": {},
   "outputs": [],
   "source": [
    "# f = x-> sqrt(abs(sin(x)-.1)) + cos(20x);\n",
    "f = x-> sqrt(sin(x)) + sin(20x);"
   ]
  },
  {
   "cell_type": "code",
   "execution_count": null,
   "metadata": {},
   "outputs": [],
   "source": [
    "plot(f, LinRange(0,.5,100);legend=false, size=[400,200])"
   ]
  },
  {
   "cell_type": "code",
   "execution_count": null,
   "metadata": {},
   "outputs": [],
   "source": [
    "using Calculus\n",
    "struct SQRT <: Function \n",
    "(::SQRT)(x::T) where T<:Number = sqrt(x)\n",
    "end\n",
    "\n",
    "struct DIFFSQRT <: Function \n",
    "end\n",
    "Calculus.derivative(::SQRT) = DIFFSQRT()\n",
    "Calculus.derivative(::SQRT, x::T) where T<:Number = (DIFFSQRT())(x)\n",
    "(::DIFFSQRT)(x::T) where T<:Number = one(T)/(2sqrt(x))"
   ]
  },
  {
   "cell_type": "code",
   "execution_count": null,
   "metadata": {},
   "outputs": [],
   "source": [
    "WP = WeightedSumPlatform(P, [SQRT(),x->1])"
   ]
  },
  {
   "cell_type": "code",
   "execution_count": null,
   "metadata": {},
   "outputs": [],
   "source": [
    "FRES = Fun(f, WP, criterion = ResidualStyle(), threshold=1e-12,verbose=true,oversamplingfactor=5)"
   ]
  },
  {
   "cell_type": "code",
   "execution_count": null,
   "metadata": {},
   "outputs": [],
   "source": [
    "plot(FRES, f; layout=2)\n",
    "plot!(FRES; plot_ext=true, subplot=2)"
   ]
  },
  {
   "cell_type": "code",
   "execution_count": null,
   "metadata": {},
   "outputs": [],
   "source": [
    "FFNA = Fun(f, WP, criterion = FNAStyle(), FNAeta=2, threshold=1e-12,verbose=true, maxlength=1<<14,oversamplingfactor=5)"
   ]
  },
  {
   "cell_type": "markdown",
   "metadata": {},
   "source": [
    "### Comparison"
   ]
  },
  {
   "cell_type": "code",
   "execution_count": null,
   "metadata": {},
   "outputs": [],
   "source": [
    "length(FRES), length(FFNA)"
   ]
  },
  {
   "cell_type": "code",
   "execution_count": null,
   "metadata": {},
   "outputs": [],
   "source": [
    "plot(FFNA; plot_ext=true,label=\"FNA\",layout=2,size=(900,300))\n",
    "plot!(FRES; plot_ext=true,label=\"RES\",legend=:topleft)\n",
    "plot!(FFNA,f; plot_ext=true,label=\"FNA\",subplot=2)\n",
    "plot!(FRES,f; plot_ext=true,label=\"RES\",legend=:topleft,subplot=2)"
   ]
  },
  {
   "cell_type": "code",
   "execution_count": null,
   "metadata": {},
   "outputs": [],
   "source": []
  }
 ],
 "metadata": {
  "kernelspec": {
   "display_name": "Julia 1.0.1",
   "language": "julia",
   "name": "julia-1.0"
  },
  "language_info": {
   "file_extension": ".jl",
   "mimetype": "application/julia",
   "name": "julia",
   "version": "1.0.1"
  }
 },
 "nbformat": 4,
 "nbformat_minor": 2
}
