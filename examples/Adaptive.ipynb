{
 "cells": [
  {
   "cell_type": "code",
   "execution_count": null,
   "metadata": {
    "collapsed": false,
    "nbpresent": {
     "id": "b8edf475-978b-4681-b5a8-baf349ce038b"
    }
   },
   "outputs": [],
   "source": [
    "using BasisFunctions\n",
    "using FrameFuns\n",
    "using Plots\n",
    "gr()"
   ]
  },
  {
   "cell_type": "markdown",
   "metadata": {
    "collapsed": false
   },
   "source": [
    "### One-Dimensional Adaptive Approximation"
   ]
  },
  {
   "cell_type": "markdown",
   "metadata": {},
   "source": [
    "#### Intervals"
   ]
  },
  {
   "cell_type": "code",
   "execution_count": null,
   "metadata": {
    "collapsed": false,
    "nbpresent": {
     "id": "5928a2a9-8a9b-45e9-b3ac-d44559ca7747"
    }
   },
   "outputs": [],
   "source": [
    "D = Interval(-0.5,0.5)"
   ]
  },
  {
   "cell_type": "markdown",
   "metadata": {},
   "source": [
    "#### Spaces"
   ]
  },
  {
   "cell_type": "code",
   "execution_count": null,
   "metadata": {
    "collapsed": false
   },
   "outputs": [],
   "source": [
    "F = FourierSpace(-1,1)\n",
    "C = ChebyshevSpace()\n",
    "FunctionSet(F,4)"
   ]
  },
  {
   "cell_type": "markdown",
   "metadata": {},
   "source": [
    "#### Functions"
   ]
  },
  {
   "cell_type": "code",
   "execution_count": null,
   "metadata": {
    "collapsed": false,
    "nbpresent": {
     "id": "d959ef63-c55e-4aa2-b6a3-a5c4c1ebe5fe"
    }
   },
   "outputs": [],
   "source": [
    "f0 = x->x\n",
    "f1 =(x)->cos(3*x)\n",
    "f2 =(x)->cos(80*x)\n",
    "f3(x) = cos(10*x.^2)"
   ]
  },
  {
   "cell_type": "markdown",
   "metadata": {},
   "source": [
    "#### Constructors"
   ]
  },
  {
   "cell_type": "code",
   "execution_count": null,
   "metadata": {
    "collapsed": false
   },
   "outputs": [],
   "source": [
    "FC1 = FunConstructor(F, D)\n",
    "F1 = FC1(f0)"
   ]
  },
  {
   "cell_type": "code",
   "execution_count": null,
   "metadata": {
    "collapsed": false
   },
   "outputs": [],
   "source": [
    "F1 = FC1(f0,afun=FrameFuns.fun_simple)"
   ]
  },
  {
   "cell_type": "code",
   "execution_count": null,
   "metadata": {
    "collapsed": false
   },
   "outputs": [],
   "source": [
    "plot(abs(coefficients(F1)),yscale=:log10)"
   ]
  },
  {
   "cell_type": "code",
   "execution_count": null,
   "metadata": {
    "collapsed": false
   },
   "outputs": [],
   "source": [
    "F1 = FC1(f0,afun=FrameFuns.fun_greedy)"
   ]
  },
  {
   "cell_type": "code",
   "execution_count": null,
   "metadata": {
    "collapsed": false
   },
   "outputs": [],
   "source": [
    "plot(abs(coefficients(F1)),yscale=:log10)"
   ]
  },
  {
   "cell_type": "code",
   "execution_count": null,
   "metadata": {
    "collapsed": false
   },
   "outputs": [],
   "source": [
    "plot(F1,f1)"
   ]
  },
  {
   "cell_type": "code",
   "execution_count": null,
   "metadata": {
    "collapsed": false
   },
   "outputs": [],
   "source": [
    "FC2 = FunConstructor(C, Interval()/2)\n",
    "F2 = FC2(f2)"
   ]
  },
  {
   "cell_type": "code",
   "execution_count": null,
   "metadata": {
    "collapsed": false
   },
   "outputs": [],
   "source": [
    "plot(F2,f2)"
   ]
  },
  {
   "cell_type": "code",
   "execution_count": null,
   "metadata": {
    "collapsed": false,
    "nbpresent": {
     "id": "69d00a86-4ee4-442c-9e9e-d969429fd3ff"
    }
   },
   "outputs": [],
   "source": [
    "FC3 = FunConstructor(F, Interval(-1.0,-0.5)+Interval(-0.2,0.5))\n",
    "F3 = FC3(f3, max_logn_coefs=12, solver=FrameFuns.FE_ProjectionSolver)\n",
    "F3 = FC3(f3, max_logn_coefs=12, solver=FrameFuns.FE_DirectSolver)"
   ]
  },
  {
   "cell_type": "code",
   "execution_count": null,
   "metadata": {
    "collapsed": false,
    "nbpresent": {
     "id": "d0a3d4e8-c34a-4ac2-b402-ea711507036f"
    }
   },
   "outputs": [],
   "source": [
    "l = @layout [Plots.grid(1,1); Plots.grid(1,2)]\n",
    "plot(F3, layout=l)\n",
    "plot!(F3, subplot=2, plot_ext=true)\n",
    "plot!(F3,f3, subplot=3)"
   ]
  },
  {
   "cell_type": "markdown",
   "metadata": {},
   "source": [
    "#### Extra functionality"
   ]
  },
  {
   "cell_type": "code",
   "execution_count": null,
   "metadata": {
    "collapsed": false,
    "nbpresent": {
     "id": "3a077a4f-7279-4172-994a-ddbe981bba30"
    }
   },
   "outputs": [],
   "source": [
    "x = FC1(identity)"
   ]
  },
  {
   "cell_type": "code",
   "execution_count": null,
   "metadata": {
    "collapsed": false,
    "nbpresent": {
     "id": "e1174b2b-7114-4f36-8d21-8e879f527c7b"
    }
   },
   "outputs": [],
   "source": [
    "f4(x) = sin(cos(x))\n",
    "F4 = sin(cos(x))"
   ]
  },
  {
   "cell_type": "code",
   "execution_count": null,
   "metadata": {
    "collapsed": false,
    "nbpresent": {
     "id": "f539bbd3-32e3-4799-b93b-fdda3f87928d"
    }
   },
   "outputs": [],
   "source": [
    "plot(F4,f4;layout=2)\n",
    "plot!(F4;subplot=2)"
   ]
  },
  {
   "cell_type": "code",
   "execution_count": null,
   "metadata": {
    "collapsed": false
   },
   "outputs": [],
   "source": [
    "f5(x) = exp(cos(100x))\n",
    "F5 = exp(cos(100x); max_logn_coefs=10)"
   ]
  },
  {
   "cell_type": "code",
   "execution_count": null,
   "metadata": {
    "collapsed": false
   },
   "outputs": [],
   "source": [
    "plot(F5,f5)"
   ]
  },
  {
   "cell_type": "markdown",
   "metadata": {},
   "source": [
    "### 2D approximations"
   ]
  },
  {
   "cell_type": "code",
   "execution_count": null,
   "metadata": {
    "collapsed": false,
    "scrolled": true
   },
   "outputs": [],
   "source": [
    "D = Cube([0,0],[0.5,0.5])\n",
    "FF = FourierSpace()⊗FourierSpace()\n",
    "f(x,y) = exp(y*2*x)\n",
    "FC = FunConstructor(FF, D)"
   ]
  },
  {
   "cell_type": "code",
   "execution_count": null,
   "metadata": {
    "collapsed": false
   },
   "outputs": [],
   "source": [
    "F0 = FC(f,tol=1e-12, max_logn_coefs=12)\n",
    "F1 = FC(f,tol=1e-12, max_logn_coefs=12, solver=FrameFuns.FE_ProjectionSolver)\n",
    "F2 = FC(f,tol=1e-12, max_logn_coefs=12, solver=FrameFuns.FE_DirectSolver)"
   ]
  },
  {
   "cell_type": "code",
   "execution_count": null,
   "metadata": {
    "collapsed": false
   },
   "outputs": [],
   "source": [
    "plot(F1,f)"
   ]
  },
  {
   "cell_type": "code",
   "execution_count": null,
   "metadata": {
    "collapsed": false
   },
   "outputs": [],
   "source": []
  },
  {
   "cell_type": "code",
   "execution_count": null,
   "metadata": {
    "collapsed": true
   },
   "outputs": [],
   "source": []
  }
 ],
 "metadata": {
  "anaconda-cloud": {},
  "celltoolbar": "Raw Cell Format",
  "kernelspec": {
   "display_name": "Julia 0.5.0",
   "language": "julia",
   "name": "julia-0.5"
  },
  "language_info": {
   "file_extension": ".jl",
   "mimetype": "application/julia",
   "name": "julia",
   "version": "0.5.0"
  },
  "nbpresent": {
   "slides": {
    "06f5577a-ed83-4db3-b8f3-27c6de90a3fd": {
     "id": "06f5577a-ed83-4db3-b8f3-27c6de90a3fd",
     "prev": "a046942a-3ada-4e31-b8ef-f099f79be91e",
     "regions": {
      "c27461dd-da49-4ddb-9ac9-4dd5dd8064df": {
       "attrs": {
        "height": 0.8,
        "width": 0.8,
        "x": 0.1,
        "y": 0.1
       },
       "content": {
        "cell": "e1174b2b-7114-4f36-8d21-8e879f527c7b",
        "part": "whole"
       },
       "id": "c27461dd-da49-4ddb-9ac9-4dd5dd8064df"
      }
     }
    },
    "178076c0-0802-4c0c-b0ec-f029e0e20b9e": {
     "id": "178076c0-0802-4c0c-b0ec-f029e0e20b9e",
     "prev": null,
     "regions": {
      "18e2a85a-8928-4fbe-8d27-a0cd29c691ed": {
       "attrs": {
        "height": 0.8,
        "width": 0.8,
        "x": 0.1,
        "y": 0.1
       },
       "content": {
        "cell": "b8edf475-978b-4681-b5a8-baf349ce038b",
        "part": "whole"
       },
       "id": "18e2a85a-8928-4fbe-8d27-a0cd29c691ed"
      }
     }
    },
    "3618828a-ae0d-42b7-bec8-f2bdf2652695": {
     "id": "3618828a-ae0d-42b7-bec8-f2bdf2652695",
     "prev": "06f5577a-ed83-4db3-b8f3-27c6de90a3fd",
     "regions": {
      "130e4902-9f22-4614-9b82-13a2cfdafb0d": {
       "attrs": {
        "height": 0.8,
        "width": 0.8,
        "x": 0.1,
        "y": 0.1
       },
       "content": {
        "cell": "f539bbd3-32e3-4799-b93b-fdda3f87928d",
        "part": "whole"
       },
       "id": "130e4902-9f22-4614-9b82-13a2cfdafb0d"
      }
     }
    },
    "4aee53a8-4b41-4c2b-beae-54ac6e9ccac2": {
     "id": "4aee53a8-4b41-4c2b-beae-54ac6e9ccac2",
     "prev": "548e940a-5420-411d-b7be-53b8b5b70d3d",
     "regions": {
      "307dda5d-cc96-45a4-9357-dc3843520b50": {
       "attrs": {
        "height": 0.8,
        "width": 0.8,
        "x": 0.1,
        "y": 0.1
       },
       "content": {
        "cell": "5928a2a9-8a9b-45e9-b3ac-d44559ca7747",
        "part": "whole"
       },
       "id": "307dda5d-cc96-45a4-9357-dc3843520b50"
      }
     }
    },
    "548e940a-5420-411d-b7be-53b8b5b70d3d": {
     "id": "548e940a-5420-411d-b7be-53b8b5b70d3d",
     "prev": "178076c0-0802-4c0c-b0ec-f029e0e20b9e",
     "regions": {
      "3701ebc8-a55e-4414-a9fa-b923f004d52e": {
       "attrs": {
        "height": 0.8,
        "width": 0.8,
        "x": 0.1,
        "y": 0.1
       },
       "content": {
        "cell": "ec49e83b-d1cf-4c21-8e6d-f215cfb752f7",
        "part": "whole"
       },
       "id": "3701ebc8-a55e-4414-a9fa-b923f004d52e"
      }
     }
    },
    "6f1aa25e-f939-4502-a0ee-2a7293408d3d": {
     "id": "6f1aa25e-f939-4502-a0ee-2a7293408d3d",
     "prev": "d5ac55c5-ce76-4bf3-a182-b80b38ffbabb",
     "regions": {
      "da936246-315a-4b99-ae42-eafdea65bb80": {
       "attrs": {
        "height": 0.8,
        "width": 0.8,
        "x": 0.1,
        "y": 0.1
       },
       "content": {
        "cell": "69d00a86-4ee4-442c-9e9e-d969429fd3ff",
        "part": "whole"
       },
       "id": "da936246-315a-4b99-ae42-eafdea65bb80"
      }
     }
    },
    "a046942a-3ada-4e31-b8ef-f099f79be91e": {
     "id": "a046942a-3ada-4e31-b8ef-f099f79be91e",
     "prev": "fffd465a-ca22-4cf4-88c6-7f9815f80ff9",
     "regions": {
      "2991c431-3743-4f16-bb93-4b66b551db89": {
       "attrs": {
        "height": 0.8,
        "width": 0.8,
        "x": 0.1,
        "y": 0.1
       },
       "content": {
        "cell": "3a077a4f-7279-4172-994a-ddbe981bba30",
        "part": "whole"
       },
       "id": "2991c431-3743-4f16-bb93-4b66b551db89"
      }
     }
    },
    "d5ac55c5-ce76-4bf3-a182-b80b38ffbabb": {
     "id": "d5ac55c5-ce76-4bf3-a182-b80b38ffbabb",
     "prev": "4aee53a8-4b41-4c2b-beae-54ac6e9ccac2",
     "regions": {
      "6132ff15-1dae-4b13-9a1d-eaf58cbafb44": {
       "attrs": {
        "height": 0.8,
        "width": 0.8,
        "x": 0.1,
        "y": 0.1
       },
       "content": {
        "cell": "d959ef63-c55e-4aa2-b6a3-a5c4c1ebe5fe",
        "part": "whole"
       },
       "id": "6132ff15-1dae-4b13-9a1d-eaf58cbafb44"
      }
     }
    },
    "fffd465a-ca22-4cf4-88c6-7f9815f80ff9": {
     "id": "fffd465a-ca22-4cf4-88c6-7f9815f80ff9",
     "prev": "6f1aa25e-f939-4502-a0ee-2a7293408d3d",
     "regions": {
      "711de99d-c163-46b4-8d28-c3eafd164a04": {
       "attrs": {
        "height": 0.8,
        "width": 0.8,
        "x": 0.1,
        "y": 0.1
       },
       "content": {
        "cell": "d0a3d4e8-c34a-4ac2-b402-ea711507036f",
        "part": "whole"
       },
       "id": "711de99d-c163-46b4-8d28-c3eafd164a04"
      }
     }
    }
   },
   "themes": {}
  }
 },
 "nbformat": 4,
 "nbformat_minor": 1
}
