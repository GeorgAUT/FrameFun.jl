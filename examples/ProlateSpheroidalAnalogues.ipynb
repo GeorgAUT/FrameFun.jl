{
 "cells": [
  {
   "cell_type": "code",
   "execution_count": null,
   "metadata": {
    "collapsed": false
   },
   "outputs": [],
   "source": [
    "using BasisFunctions\n",
    "using FrameFun\n",
    "using Plots\n",
    "using Domains\n",
    "using Interact, Reactive"
   ]
  },
  {
   "cell_type": "markdown",
   "metadata": {},
   "source": [
    "### 1D - Prolate Spheroidal Wave Sequences"
   ]
  },
  {
   "cell_type": "code",
   "execution_count": null,
   "metadata": {
    "collapsed": false
   },
   "outputs": [],
   "source": [
    "D = interval(-0.5,0.5)\n",
    "B = FourierBasis(25)\n",
    "F = Fun(x->x,B,D)\n",
    "USV = svd(matrix(F))\n",
    "plot(USV[2])"
   ]
  },
  {
   "cell_type": "code",
   "execution_count": null,
   "metadata": {
    "collapsed": false
   },
   "outputs": [],
   "source": [
    "@manipulate for i=1:length(USV[2])\n",
    "    F = SetFun(extensionframe(D,B),USV[3][:,i])\n",
    "    plot(F,ylim=[-4,4],plot_ext=true)\n",
    "end"
   ]
  },
  {
   "cell_type": "markdown",
   "metadata": {},
   "source": [
    "### 2D - General Domain Equivalents"
   ]
  },
  {
   "cell_type": "code",
   "execution_count": null,
   "metadata": {
    "collapsed": false
   },
   "outputs": [],
   "source": [
    "D2 = mandelbrot()\n",
    "B2 = FourierBasis(15,-1.0,0.35)⊗FourierBasis(15,-0.65,0.65)\n",
    "F2 = Fun((x,y)->x+y,B2,D2)"
   ]
  },
  {
   "cell_type": "code",
   "execution_count": null,
   "metadata": {
    "collapsed": false
   },
   "outputs": [],
   "source": [
    "USV2=svd(matrix(F2))\n",
    "plot(USV2[2])"
   ]
  },
  {
   "cell_type": "code",
   "execution_count": null,
   "metadata": {
    "collapsed": false
   },
   "outputs": [],
   "source": [
    "n = length(USV2[2])\n",
    "@manipulate for i=1:n\n",
    "    F2 = SetFun(extensionframe(D2,B2),reshape(USV2[3][:,i],round(Int,sqrt(n)),round(Int,sqrt(n))))\n",
    "    plot(F2,n=101,title=\"l=$(USV2[2][i])\",plot_ext=true)\n",
    "end"
   ]
  },
  {
   "cell_type": "code",
   "execution_count": null,
   "metadata": {
    "collapsed": true
   },
   "outputs": [],
   "source": []
  },
  {
   "cell_type": "code",
   "execution_count": null,
   "metadata": {
    "collapsed": true
   },
   "outputs": [],
   "source": []
  }
 ],
 "metadata": {
  "anaconda-cloud": {},
  "kernelspec": {
   "display_name": "Julia 0.6.0",
   "language": "julia",
   "name": "julia-0.6"
  },
  "language_info": {
   "file_extension": ".jl",
   "mimetype": "application/julia",
   "name": "julia",
   "version": "0.6.0"
  }
 },
 "nbformat": 4,
 "nbformat_minor": 0
}
