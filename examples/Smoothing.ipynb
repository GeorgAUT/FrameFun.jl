{
 "cells": [
  {
   "cell_type": "code",
   "execution_count": null,
   "metadata": {
    "collapsed": false
   },
   "outputs": [],
   "source": [
    "using BasisFunctions\n",
    "using FrameFuns\n",
    "using Plots\n",
    "gr()"
   ]
  },
  {
   "cell_type": "markdown",
   "metadata": {},
   "source": [
    "# One-dimensional smoothing"
   ]
  },
  {
   "cell_type": "code",
   "execution_count": null,
   "metadata": {
    "collapsed": false
   },
   "outputs": [],
   "source": [
    "B = FourierBasis(301,-1,1)\n",
    "D = Interval(-0.5,0.5)\n",
    "f(x) = exp(x)\n",
    "fscale(i) = 10.0^-4+abs(i)+abs(i)^2+abs(i)^3\n",
    "F = Fun(f,B,D; solver=FrameFuns.FE_ProjectionSolver)\n",
    "F2 = Fun(f,B,D;solver=FrameFuns.FE_SmoothProjectionSolver,scale=fscale)"
   ]
  },
  {
   "cell_type": "code",
   "execution_count": null,
   "metadata": {
    "collapsed": false
   },
   "outputs": [],
   "source": [
    "plot(F,layout=4,plot_ext=true,title=\"unsmoothed\")\n",
    "plot!(F2,subplot=2,plot_ext=true,title=\"smoothed\")\n",
    "plot!(F,f,subplot=3,title=\"unsmooth error\")\n",
    "plot!(F2,f,subplot=4,title=\"smooth error\")"
   ]
  },
  {
   "cell_type": "markdown",
   "metadata": {},
   "source": [
    "### Scaling function determines coefficients decay"
   ]
  },
  {
   "cell_type": "code",
   "execution_count": null,
   "metadata": {
    "collapsed": false
   },
   "outputs": [],
   "source": [
    "plot(abs(coefficients(F)[1:Int(round(end/2))]),yscale=:log,layout=2,title=\"unsmoothed coefficients\")\n",
    "plot!(abs(coefficients(F2)[1:Int(round(end/2))]),yscale=:log,subplot=2,title=\"smoothed coefficients\")"
   ]
  },
  {
   "cell_type": "markdown",
   "metadata": {},
   "source": [
    "### Scaling the $L_{2}$ norm "
   ]
  },
  {
   "cell_type": "code",
   "execution_count": null,
   "metadata": {
    "collapsed": false
   },
   "outputs": [],
   "source": [
    "B = FourierBasis(301,-1,1)\n",
    "D = Interval(-0.5,0.5)\n",
    "f(x) = exp(x)\n",
    "fscale(i) = 1.0\n",
    "F2 = Fun(f,B,D;solver=FrameFuns.FE_SmoothProjectionSolver, scale=fscale)"
   ]
  },
  {
   "cell_type": "markdown",
   "metadata": {},
   "source": [
    "The algorithm minimizes the $L_2$ norm of the extension. There seems to be some precision loss in the interior."
   ]
  },
  {
   "cell_type": "code",
   "execution_count": null,
   "metadata": {
    "collapsed": false
   },
   "outputs": [],
   "source": [
    "plot(F2,layout=2,plot_ext=true)\n",
    "plot!(F2,f,subplot=2)"
   ]
  },
  {
   "cell_type": "markdown",
   "metadata": {},
   "source": [
    "# Two-dimensional smoothing"
   ]
  },
  {
   "cell_type": "code",
   "execution_count": null,
   "metadata": {
    "collapsed": false
   },
   "outputs": [],
   "source": [
    "B = FourierBasis(20,-1,1)⊗FourierBasis(20,-1,1)\n",
    "D = Disk(0.5)\n",
    "f(x,y) = exp(x*y)\n",
    "fscale(i,j) = 10.0^-4+100*abs((i)^2+abs(j^2))\n",
    "F2 = Fun(f,B,D,solver=FrameFuns.FE_SmoothProjectionSolver,scale=fscale)\n",
    "F = Fun(f,B,D,solver=FrameFuns.FE_ProjectionSolver)"
   ]
  },
  {
   "cell_type": "code",
   "execution_count": null,
   "metadata": {
    "collapsed": false
   },
   "outputs": [],
   "source": [
    "heatmap(F,plot_ext=true,layout=2,zlim=[0.6,1.4],title=\"unsmoothed\")\n",
    "heatmap!(F2,plot_ext=true,subplot=2,zlim=[0.6,1.4],title=\"smoothed\")"
   ]
  },
  {
   "cell_type": "markdown",
   "metadata": {
    "collapsed": true
   },
   "source": [
    "# Convergence of the extension"
   ]
  },
  {
   "cell_type": "markdown",
   "metadata": {},
   "source": [
    "### Fourier"
   ]
  },
  {
   "cell_type": "code",
   "execution_count": null,
   "metadata": {
    "collapsed": false
   },
   "outputs": [],
   "source": [
    "f(x)=exp(x)\n",
    "D = Interval(-0.5,0.5)\n",
    "fscale(i) = 10.0^-8+(abs(i))^3+(abs(i))^2+(abs(i))\n",
    "h = plot()\n",
    "colors = linspace(colorant\"lightgrey\",colorant\"blue\",10)\n",
    "for i =1:10\n",
    "    Bi = FourierBasis(2^i+1,-1,1)\n",
    "    F3 = Fun(f,Bi,D,solver=FrameFuns.FE_SmoothProjectionSolver, scale=fscale)\n",
    "    h = plot!(F3,color=colors[i],plot_ext=true)\n",
    "end\n",
    "# The extension converges to something that is 'not' the original function\n",
    "x = -1:0.01:1\n",
    "plot!(x,f(x),color=\"red\")"
   ]
  },
  {
   "cell_type": "code",
   "execution_count": null,
   "metadata": {
    "collapsed": false
   },
   "outputs": [],
   "source": [
    "f(x)=exp(x)\n",
    "D = Interval(-0.5,0.5)\n",
    "fscale(i) = 10.0^-8+(abs(i))^3+(abs(i))^2+(abs(i))\n",
    "h = plot()\n",
    "colors = linspace(colorant\"lightgrey\",colorant\"blue\",10)\n",
    "for i =1:10\n",
    "    Bi = ChebyshevBasis(2^i+1,-1,1)\n",
    "    F3 = Fun(f,Bi,D,solver=FrameFuns.FE_SmoothProjectionSolver, scale=fscale)\n",
    "    h = plot!(F3,color=colors[i],plot_ext=true)\n",
    "end\n",
    "# The extension converges to something that is 'not' the original function\n",
    "x = -1:0.01:1\n",
    "plot!(x,f(x),color=\"red\")"
   ]
  },
  {
   "cell_type": "code",
   "execution_count": null,
   "metadata": {
    "collapsed": true
   },
   "outputs": [],
   "source": []
  }
 ],
 "metadata": {
  "anaconda-cloud": {},
  "kernelspec": {
   "display_name": "Julia 0.5.0",
   "language": "julia",
   "name": "julia-0.5"
  },
  "language_info": {
   "file_extension": ".jl",
   "mimetype": "application/julia",
   "name": "julia",
   "version": "0.5.0"
  }
 },
 "nbformat": 4,
 "nbformat_minor": 0
}
