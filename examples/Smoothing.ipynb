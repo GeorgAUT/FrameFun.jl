{
 "cells": [
  {
   "cell_type": "code",
   "execution_count": 1,
   "metadata": {
    "collapsed": false
   },
   "outputs": [
    {
     "name": "stderr",
     "output_type": "stream",
     "text": [
      "WARNING: could not import Base.indices into BasisFunctions\n",
      "WARNING: could not import Base.normalize into BasisFunctions\n",
      "WARNING: New definition \n",
      "    resize(BasisFunctions.TensorProductSet, Any) at /Users/roelmatthysen/Documents/Leisure Programming/Julia/BasisFunctions/src/sets/tensorproductset.jl:57\n",
      "is ambiguous with: \n",
      "    resize(BasisFunctions.FunctionSet{1, T<:Any}, Tuple{Int64}) at /Users/roelmatthysen/Documents/Leisure Programming/Julia/BasisFunctions/src/sets/functionset.jl:124.\n",
      "To fix, define \n",
      "    resize(BasisFunctions.TensorProductSet{TS<:Any, 1, T<:Any}, Tuple{Int64})\n",
      "before the new definition.\n",
      "WARNING: New definition \n",
      "    resize(BasisFunctions.LinearMappedSet, Any) at /Users/roelmatthysen/Documents/Leisure Programming/Julia/BasisFunctions/src/sets/mappedsets.jl:72\n",
      "is ambiguous with: \n",
      "    resize(BasisFunctions.FunctionSet{1, T<:Any}, Tuple{Int64}) at /Users/roelmatthysen/Documents/Leisure Programming/Julia/BasisFunctions/src/sets/functionset.jl:124.\n",
      "To fix, define \n",
      "    resize(BasisFunctions.LinearMappedSet, Tuple{Int64})\n",
      "before the new definition.\n",
      "WARNING: New definition \n",
      "    resize(BasisFunctions.Rn{#T<:Any}, Any) at /Users/roelmatthysen/Documents/Leisure Programming/Julia/BasisFunctions/src/sets/euclidean.jl:22\n",
      "is ambiguous with: \n",
      "    resize(BasisFunctions.FunctionSet{1, T<:Any}, Tuple{Int64}) at /Users/roelmatthysen/Documents/Leisure Programming/Julia/BasisFunctions/src/sets/functionset.jl:124.\n",
      "To fix, define \n",
      "    resize(BasisFunctions.Rn{T<:Any}, Tuple{Int64})\n",
      "before the new definition.\n",
      "WARNING: New definition \n",
      "    resize(BasisFunctions.Cn{#T<:Any}, Any) at /Users/roelmatthysen/Documents/Leisure Programming/Julia/BasisFunctions/src/sets/euclidean.jl:23\n",
      "is ambiguous with: \n",
      "    resize(BasisFunctions.FunctionSet{1, T<:Any}, Tuple{Int64}) at /Users/roelmatthysen/Documents/Leisure Programming/Julia/BasisFunctions/src/sets/functionset.jl:124.\n",
      "To fix, define \n",
      "    resize(BasisFunctions.Cn{T<:Any}, Tuple{Int64})\n",
      "before the new definition.\n"
     ]
    },
    {
     "ename": "LoadError",
     "evalue": "LoadError: LoadError: LoadError: cannot define function MatrixOperator; it already has a value\nwhile loading /Users/roelmatthysen/Documents/Leisure Programming/Julia/BasisFunctions/src/operator/special_operators.jl, in expression starting on line 340\nwhile loading /Users/roelmatthysen/Documents/Leisure Programming/Julia/BasisFunctions/src/BasisFunctions.jl, in expression starting on line 183\nwhile loading In[1], in expression starting on line 1",
     "output_type": "error",
     "traceback": [
      "LoadError: LoadError: LoadError: cannot define function MatrixOperator; it already has a value\nwhile loading /Users/roelmatthysen/Documents/Leisure Programming/Julia/BasisFunctions/src/operator/special_operators.jl, in expression starting on line 340\nwhile loading /Users/roelmatthysen/Documents/Leisure Programming/Julia/BasisFunctions/src/BasisFunctions.jl, in expression starting on line 183\nwhile loading In[1], in expression starting on line 1",
      "",
      " in include at /Users/roelmatthysen/Documents/Julia-0.4.6.app/Contents/Resources/julia/lib/julia/sys.dylib",
      " in include_from_node1 at /Users/roelmatthysen/Documents/Julia-0.4.6.app/Contents/Resources/julia/lib/julia/sys.dylib",
      " in include at /Users/roelmatthysen/Documents/Julia-0.4.6.app/Contents/Resources/julia/lib/julia/sys.dylib",
      " in include_from_node1 at /Users/roelmatthysen/Documents/Julia-0.4.6.app/Contents/Resources/julia/lib/julia/sys.dylib",
      " in require at /Users/roelmatthysen/Documents/Julia-0.4.6.app/Contents/Resources/julia/lib/julia/sys.dylib"
     ]
    }
   ],
   "source": [
    "using BasisFunctions\n",
    "using FrameFuns\n",
    "using Plots\n",
    "gr()"
   ]
  },
  {
   "cell_type": "markdown",
   "metadata": {},
   "source": [
    "# One-dimensional smoothing"
   ]
  },
  {
   "cell_type": "code",
   "execution_count": 2,
   "metadata": {
    "collapsed": false
   },
   "outputs": [
    {
     "ename": "LoadError",
     "evalue": "LoadError: UndefVarError: FourierBasis not defined\nwhile loading In[2], in expression starting on line 1",
     "output_type": "error",
     "traceback": [
      "LoadError: UndefVarError: FourierBasis not defined\nwhile loading In[2], in expression starting on line 1",
      ""
     ]
    }
   ],
   "source": [
    "B = FourierBasis(301)\n",
    "D = Interval(-0.5,0.5)\n",
    "f(x) = exp(x)\n",
    "fscale(i) = 10.0^-4+abs(i)+abs(i)^2+abs(i)^3\n",
    "F = Fun(f,B,D; solver=FrameFuns.FE_ProjectionSolver)\n",
    "F2 = Fun(f,B,D;solver=FrameFuns.FE_SmoothProjectionSolver)"
   ]
  },
  {
   "cell_type": "code",
   "execution_count": 3,
   "metadata": {
    "collapsed": false
   },
   "outputs": [
    {
     "ename": "LoadError",
     "evalue": "LoadError: UndefVarError: subplot not defined\nwhile loading In[3], in expression starting on line 1",
     "output_type": "error",
     "traceback": [
      "LoadError: UndefVarError: subplot not defined\nwhile loading In[3], in expression starting on line 1",
      ""
     ]
    }
   ],
   "source": [
    "subplot(221); FrameFuns.plot_extension(F)\n",
    "subplot(222); FrameFuns.plot_extension(F2)\n",
    "subplot(223); FrameFuns.plot_error(F,f)\n",
    "subplot(224); FrameFuns.plot_error(F2,f)"
   ]
  },
  {
   "cell_type": "markdown",
   "metadata": {},
   "source": [
    "### Scaling function determines coefficients decay"
   ]
  },
  {
   "cell_type": "code",
   "execution_count": 4,
   "metadata": {
    "collapsed": false
   },
   "outputs": [
    {
     "ename": "LoadError",
     "evalue": "LoadError: UndefVarError: subplot not defined\nwhile loading In[4], in expression starting on line 1",
     "output_type": "error",
     "traceback": [
      "LoadError: UndefVarError: subplot not defined\nwhile loading In[4], in expression starting on line 1",
      ""
     ]
    }
   ],
   "source": [
    "subplot(121); PyPlot.semilogy(abs(coefficients(F)))\n",
    "subplot(122); PyPlot.semilogy(abs(coefficients(F2)))"
   ]
  },
  {
   "cell_type": "markdown",
   "metadata": {},
   "source": [
    "### Scaling the $L_{2}$ norm "
   ]
  },
  {
   "cell_type": "code",
   "execution_count": 5,
   "metadata": {
    "collapsed": false
   },
   "outputs": [
    {
     "ename": "LoadError",
     "evalue": "LoadError: UndefVarError: FourierBasis not defined\nwhile loading In[5], in expression starting on line 1",
     "output_type": "error",
     "traceback": [
      "LoadError: UndefVarError: FourierBasis not defined\nwhile loading In[5], in expression starting on line 1",
      ""
     ]
    }
   ],
   "source": [
    "B = FourierBasis(301)\n",
    "D = Interval(-0.5,0.5)\n",
    "f(x) = exp(x)\n",
    "fscale(i) = 1.0\n",
    "F2 = Fun(f,B,D;solver=FrameFuns.FE_SmoothProjectionSolver, scale=fscale)"
   ]
  },
  {
   "cell_type": "markdown",
   "metadata": {},
   "source": [
    "The algorithm minimizes the $L_2$ norm of the extension. There seems to be some precision loss in the interior."
   ]
  },
  {
   "cell_type": "code",
   "execution_count": 6,
   "metadata": {
    "collapsed": false
   },
   "outputs": [
    {
     "ename": "LoadError",
     "evalue": "LoadError: UndefVarError: subplot not defined\nwhile loading In[6], in expression starting on line 1",
     "output_type": "error",
     "traceback": [
      "LoadError: UndefVarError: subplot not defined\nwhile loading In[6], in expression starting on line 1",
      ""
     ]
    }
   ],
   "source": [
    "subplot(121); FrameFuns.plot_extension(F2)\n",
    "subplot(122); FrameFuns.plot_error(F2,f)"
   ]
  },
  {
   "cell_type": "markdown",
   "metadata": {},
   "source": [
    "# Two-dimensional smoothing"
   ]
  },
  {
   "cell_type": "code",
   "execution_count": 7,
   "metadata": {
    "collapsed": false
   },
   "outputs": [
    {
     "ename": "LoadError",
     "evalue": "LoadError: UndefVarError: ⊗ not defined\nwhile loading In[7], in expression starting on line 1",
     "output_type": "error",
     "traceback": [
      "LoadError: UndefVarError: ⊗ not defined\nwhile loading In[7], in expression starting on line 1",
      ""
     ]
    }
   ],
   "source": [
    "B = FourierBasis(30)⊗FourierBasis(30)\n",
    "D = Disk(0.5)\n",
    "f(x,y) = exp(x*y)\n",
    "fscale(i,j) = 10.0^-4+100*(abs(i)^2+abs(j)^2)\n",
    "F = Fun(f,B,D,solver=FrameFuns.FE_ProjectionSolver,)\n",
    "F2 = Fun(f,B,D,solver=FrameFuns.FE_SmoothProjectionSolver,scale=fscale)"
   ]
  },
  {
   "cell_type": "code",
   "execution_count": 8,
   "metadata": {
    "collapsed": false
   },
   "outputs": [
    {
     "ename": "LoadError",
     "evalue": "LoadError: UndefVarError: subplot not defined\nwhile loading In[8], in expression starting on line 1",
     "output_type": "error",
     "traceback": [
      "LoadError: UndefVarError: subplot not defined\nwhile loading In[8], in expression starting on line 1",
      ""
     ]
    }
   ],
   "source": [
    "subplot(121); FrameFuns.plot_image(F,unscaled=true)\n",
    "subplot(122); FrameFuns.plot_image(F2,unscaled=true)"
   ]
  },
  {
   "cell_type": "code",
   "execution_count": 9,
   "metadata": {
    "collapsed": false
   },
   "outputs": [
    {
     "ename": "LoadError",
     "evalue": "LoadError: UndefVarError: fscale not defined\nwhile loading In[9], in expression starting on line 1",
     "output_type": "error",
     "traceback": [
      "LoadError: UndefVarError: fscale not defined\nwhile loading In[9], in expression starting on line 1",
      ""
     ]
    }
   ],
   "source": [
    "D = IdxnScalingOperator(B, scale=fscale)\n",
    "AD = inv(D)\n",
    "subplot(121); PyPlot.pcolormesh(log10(abs(coefficients(F))),vmin=-16,vmax=1)\n",
    "PyPlot.colorbar()\n",
    "subplot(122); PyPlot.pcolormesh(log10(abs(coefficients(F2))),vmin=-16,vmax=1)\n",
    "PyPlot.colorbar()"
   ]
  },
  {
   "cell_type": "code",
   "execution_count": 10,
   "metadata": {
    "collapsed": false,
    "scrolled": true
   },
   "outputs": [
    {
     "ename": "LoadError",
     "evalue": "LoadError: UndefVarError: subplot not defined\nwhile loading In[10], in expression starting on line 2",
     "output_type": "error",
     "traceback": [
      "LoadError: UndefVarError: subplot not defined\nwhile loading In[10], in expression starting on line 2",
      ""
     ]
    }
   ],
   "source": [
    "\n",
    "    subplot(121)\n",
    "    FrameFuns.plot_error(F,f)\n",
    "\n",
    "    subplot(122)\n",
    "    FrameFuns.plot_error(F2,f)\n"
   ]
  },
  {
   "cell_type": "markdown",
   "metadata": {
    "collapsed": true
   },
   "source": [
    "# Convergence of the extension"
   ]
  },
  {
   "cell_type": "markdown",
   "metadata": {},
   "source": [
    "### Fourier"
   ]
  },
  {
   "cell_type": "code",
   "execution_count": 11,
   "metadata": {
    "collapsed": false
   },
   "outputs": [
    {
     "ename": "LoadError",
     "evalue": "LoadError: UndefVarError: Interval not defined\nwhile loading In[11], in expression starting on line 2",
     "output_type": "error",
     "traceback": [
      "LoadError: UndefVarError: Interval not defined\nwhile loading In[11], in expression starting on line 2",
      ""
     ]
    }
   ],
   "source": [
    "f(x)=exp(x)\n",
    "D = Interval(-0.5,0.5)\n",
    "fscale(i) = 10.0^-8+(abs(i))^3+(abs(i))^2+(abs(i))\n",
    "for i =1:10\n",
    "    Bi = FourierBasis(2^i+1)\n",
    "    F3 = Fun(f,Bi,D,solver=FrameFuns.FE_SmoothProjectionSolver, scale=fscale)\n",
    "    FrameFuns.plot_extension(F3,color=[1-i/11; 1-i/11; 1-i/11])\n",
    "end\n",
    "# The extension converges to something that is 'not' the original function\n",
    "x = -1:0.01:1\n",
    "PyPlot.plot(x,f(x),color=\"red\")"
   ]
  },
  {
   "cell_type": "markdown",
   "metadata": {
    "collapsed": true
   },
   "source": [
    "### Chebyshev"
   ]
  },
  {
   "cell_type": "code",
   "execution_count": 12,
   "metadata": {
    "collapsed": false
   },
   "outputs": [
    {
     "ename": "LoadError",
     "evalue": "LoadError: UndefVarError: Interval not defined\nwhile loading In[12], in expression starting on line 2",
     "output_type": "error",
     "traceback": [
      "LoadError: UndefVarError: Interval not defined\nwhile loading In[12], in expression starting on line 2",
      ""
     ]
    }
   ],
   "source": [
    "f(x)=sin(5*x)\n",
    "D = Interval(-0.5,0.5)\n",
    "fscale(i) = 10.0^-8+(abs(i))^3+(abs(i))^2+(abs(i))\n",
    "for i =1:10\n",
    "    Bi = ChebyshevBasis(2^i+1)\n",
    "    F3 = Fun(f,Bi,D,solver=FrameFuns.FE_SmoothProjectionSolver, scale=fscale)\n",
    "    FrameFuns.plot_extension(F3,color=[1-i/11; 1-i/11; 1-i/11])\n",
    "end\n",
    "# The extension converges to something that is 'not' the original function\n",
    "x = -1:0.01:1\n",
    "PyPlot.plot(x,f(x),color=\"red\")"
   ]
  },
  {
   "cell_type": "code",
   "execution_count": null,
   "metadata": {
    "collapsed": true
   },
   "outputs": [],
   "source": []
  }
 ],
 "metadata": {
  "anaconda-cloud": {},
  "kernelspec": {
   "display_name": "Julia 0.4.6",
   "language": "julia",
   "name": "julia-0.4"
  },
  "language_info": {
   "file_extension": ".jl",
   "mimetype": "application/julia",
   "name": "julia",
   "version": "0.4.6"
  }
 },
 "nbformat": 4,
 "nbformat_minor": 0
}
