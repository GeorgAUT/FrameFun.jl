{
 "cells": [
  {
   "cell_type": "code",
   "execution_count": null,
   "metadata": {
    "collapsed": false
   },
   "outputs": [],
   "source": [
    "using BasisFunctions\n",
    "using FrameFun\n",
    "using Plots\n",
    "using Domains"
   ]
  },
  {
   "cell_type": "markdown",
   "metadata": {},
   "source": [
    "# 1D derivatives and antiderivatives"
   ]
  },
  {
   "cell_type": "code",
   "execution_count": null,
   "metadata": {
    "collapsed": false
   },
   "outputs": [],
   "source": [
    "B = ChebyshevBasis(10,-2.0,2.0)\n",
    "D = interval(-1.0,1.0)\n",
    "f = x->x^2\n",
    "F = Fun(f,B,D)"
   ]
  },
  {
   "cell_type": "markdown",
   "metadata": {},
   "source": [
    "In 1D, derivatives and antiderivatives are designated by $'$ and $\\int$ respectively"
   ]
  },
  {
   "cell_type": "code",
   "execution_count": null,
   "metadata": {
    "collapsed": false
   },
   "outputs": [],
   "source": [
    "plot(∫(F),layout=4)\n",
    "plot!(F',subplot=2)\n",
    "plot!(F,subplot=3)\n",
    "plot!(∫(F'),subplot=4)"
   ]
  },
  {
   "cell_type": "markdown",
   "metadata": {},
   "source": [
    "# 2D derivatives and antiderivatives"
   ]
  },
  {
   "cell_type": "code",
   "execution_count": null,
   "metadata": {
    "collapsed": false
   },
   "outputs": [],
   "source": [
    "B = FourierBasis(100,-1,1)⊗FourierBasis(100,-1,1)\n",
    "D = interval(-0.5,0.5)×interval(-0.5,0.5)\n",
    "f = (x,y)->x*y\n",
    "F = Fun(f,B,D)"
   ]
  },
  {
   "cell_type": "markdown",
   "metadata": {},
   "source": [
    "In 2D partial derivatives are designated by $\\partial x(...)$ for the first dimension, $\\partial y(...)$ for the second and so on. Integrals are designated by $\\int\\partial x(...)$ and so on."
   ]
  },
  {
   "cell_type": "code",
   "execution_count": null,
   "metadata": {
    "collapsed": false
   },
   "outputs": [],
   "source": [
    "heatmap(F,layout=2)\n",
    "heatmap!(∂x(F),subplot=2)"
   ]
  },
  {
   "cell_type": "code",
   "execution_count": null,
   "metadata": {
    "collapsed": false
   },
   "outputs": [],
   "source": [
    "plot(F,f,layout=2)\n",
    "plot!(∂x(F),(x,y)->y,subplot=2)"
   ]
  },
  {
   "cell_type": "code",
   "execution_count": null,
   "metadata": {
    "collapsed": false
   },
   "outputs": [],
   "source": [
    "heatmap(∂x(∫∂x(F)),layout=2)\n",
    "heatmap!(∂y(∫∂y(F)),subplot=2)"
   ]
  },
  {
   "cell_type": "code",
   "execution_count": null,
   "metadata": {
    "collapsed": true
   },
   "outputs": [],
   "source": []
  }
 ],
 "metadata": {
  "anaconda-cloud": {},
  "kernelspec": {
   "display_name": "Julia 0.6.0",
   "language": "julia",
   "name": "julia-0.6"
  },
  "language_info": {
   "file_extension": ".jl",
   "mimetype": "application/julia",
   "name": "julia",
   "version": "0.6.0"
  }
 },
 "nbformat": 4,
 "nbformat_minor": 0
}
