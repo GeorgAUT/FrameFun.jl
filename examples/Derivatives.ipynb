{
 "cells": [
  {
   "cell_type": "code",
   "execution_count": null,
   "metadata": {},
   "outputs": [],
   "source": [
    "using BasisFunctions\n",
    "using FrameFun\n",
    "using Plots\n",
    "using DomainSets"
   ]
  },
  {
   "cell_type": "markdown",
   "metadata": {},
   "source": [
    "# 1D derivatives and antiderivatives"
   ]
  },
  {
   "cell_type": "code",
   "execution_count": null,
   "metadata": {},
   "outputs": [],
   "source": [
    "B = ChebyshevT(10,-2.0,2.0)\n",
    "D = Interval(-1.0,1.0)\n",
    "f = x->x^2\n",
    "F = Fun(f,B,D)"
   ]
  },
  {
   "cell_type": "markdown",
   "metadata": {},
   "source": [
    "In 1D, derivatives and antiderivatives are designated by $'$ and $\\int$ respectively"
   ]
  },
  {
   "cell_type": "code",
   "execution_count": null,
   "metadata": {},
   "outputs": [],
   "source": [
    "plot(∫(F),layout=4)\n",
    "plot!(F',subplot=2)\n",
    "plot!(F,subplot=3)\n",
    "plot!(∫(F'),subplot=4)"
   ]
  },
  {
   "cell_type": "markdown",
   "metadata": {},
   "source": [
    "# 2D derivatives and antiderivatives"
   ]
  },
  {
   "cell_type": "code",
   "execution_count": null,
   "metadata": {},
   "outputs": [],
   "source": [
    "B = Fourier(100,-1,1)⊗Fourier(100,-1,1)\n",
    "D = Interval(-0.5,0.5)×Interval(-0.5,0.5)\n",
    "f = (x,y)->x*y\n",
    "F = Fun(f,B,D)"
   ]
  },
  {
   "cell_type": "markdown",
   "metadata": {},
   "source": [
    "In 2D partial derivatives are designated by $\\partial x(...)$ for the first dimension, $\\partial y(...)$ for the second and so on. Integrals are designated by $\\int\\partial x(...)$ and so on."
   ]
  },
  {
   "cell_type": "code",
   "execution_count": null,
   "metadata": {},
   "outputs": [],
   "source": [
    "heatmap(F,layout=2)\n",
    "heatmap!(∂x(F),subplot=2)"
   ]
  },
  {
   "cell_type": "code",
   "execution_count": null,
   "metadata": {},
   "outputs": [],
   "source": [
    "plot(F,f,layout=2)\n",
    "plot!(∂x(F),(x,y)->y,subplot=2)"
   ]
  },
  {
   "cell_type": "code",
   "execution_count": null,
   "metadata": {},
   "outputs": [],
   "source": []
  }
 ],
 "metadata": {
  "anaconda-cloud": {},
  "kernelspec": {
   "display_name": "Julia 0.6.0",
   "language": "julia",
   "name": "julia-0.6"
  },
  "language_info": {
   "file_extension": ".jl",
   "mimetype": "application/julia",
   "name": "julia",
   "version": "0.6.0"
  }
 },
 "nbformat": 4,
 "nbformat_minor": 1
}
