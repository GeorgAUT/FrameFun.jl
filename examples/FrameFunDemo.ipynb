{
 "metadata": {
  "language": "Julia",
  "name": "",
  "signature": "sha256:1c34cc3fce1ea4cf35d452ce31cfebb43c5598ce0aa050b7f9eeae63fc855896"
 },
 "nbformat": 3,
 "nbformat_minor": 0,
 "worksheets": [
  {
   "cells": [
    {
     "cell_type": "code",
     "collapsed": false,
     "input": [
      "using FrameFun"
     ],
     "language": "python",
     "metadata": {},
     "outputs": []
    },
    {
     "cell_type": "heading",
     "level": 3,
     "metadata": {},
     "source": [
      "One-dimensional approximations"
     ]
    },
    {
     "cell_type": "code",
     "collapsed": false,
     "input": [
      "f1 = ExpFun( x-> x, Interval(-1.0,1.0))"
     ],
     "language": "python",
     "metadata": {},
     "outputs": []
    },
    {
     "cell_type": "code",
     "collapsed": false,
     "input": [
      "plot(f1)"
     ],
     "language": "python",
     "metadata": {},
     "outputs": []
    },
    {
     "cell_type": "code",
     "collapsed": false,
     "input": [
      "plot_extension(f1)"
     ],
     "language": "python",
     "metadata": {},
     "outputs": []
    },
    {
     "cell_type": "code",
     "collapsed": false,
     "input": [
      "ExpFun.eval(f1, 0.5)"
     ],
     "language": "python",
     "metadata": {},
     "outputs": []
    },
    {
     "cell_type": "code",
     "collapsed": false,
     "input": [
      "f2 = EFun( x-> cos(50*x), Interval(-1.0,1.0), dof=71)"
     ],
     "language": "python",
     "metadata": {},
     "outputs": []
    },
    {
     "cell_type": "code",
     "collapsed": false,
     "input": [
      "plot(f2,n=400)"
     ],
     "language": "python",
     "metadata": {},
     "outputs": []
    },
    {
     "cell_type": "code",
     "collapsed": false,
     "input": [],
     "language": "python",
     "metadata": {},
     "outputs": []
    },
    {
     "cell_type": "code",
     "collapsed": false,
     "input": [],
     "language": "python",
     "metadata": {},
     "outputs": []
    },
    {
     "cell_type": "code",
     "collapsed": false,
     "input": [],
     "language": "python",
     "metadata": {},
     "outputs": []
    },
    {
     "cell_type": "heading",
     "level": 3,
     "metadata": {},
     "source": [
      "2D approximations"
     ]
    },
    {
     "cell_type": "heading",
     "level": 5,
     "metadata": {},
     "source": [
      "Simple domains and simple functions"
     ]
    },
    {
     "cell_type": "code",
     "collapsed": false,
     "input": [
      "C = Circle(1.0) - Circle(1.0)/2"
     ],
     "language": "python",
     "metadata": {},
     "outputs": []
    },
    {
     "cell_type": "code",
     "collapsed": false,
     "input": [
      "plot(C,n=200)"
     ],
     "language": "python",
     "metadata": {},
     "outputs": []
    },
    {
     "cell_type": "code",
     "collapsed": false,
     "input": [
      "f2 = EFun( (x,y) -> exp(x+y), C)"
     ],
     "language": "python",
     "metadata": {},
     "outputs": []
    },
    {
     "cell_type": "code",
     "collapsed": false,
     "input": [
      "plot(f2)"
     ],
     "language": "python",
     "metadata": {},
     "outputs": []
    },
    {
     "cell_type": "code",
     "collapsed": false,
     "input": [
      "plot_extension(f2)"
     ],
     "language": "python",
     "metadata": {},
     "outputs": []
    },
    {
     "cell_type": "code",
     "collapsed": false,
     "input": [
      "f2[unitcircle/2] = 2.0"
     ],
     "language": "python",
     "metadata": {},
     "outputs": []
    },
    {
     "cell_type": "code",
     "collapsed": false,
     "input": [
      "plot(f2)"
     ],
     "language": "python",
     "metadata": {},
     "outputs": []
    },
    {
     "cell_type": "code",
     "collapsed": false,
     "input": [
      "f2 = ExpFun.EFun( (x,y) -> cos(6*(x+y)), unitcircle)"
     ],
     "language": "python",
     "metadata": {},
     "outputs": []
    },
    {
     "cell_type": "code",
     "collapsed": false,
     "input": [
      "I = f2>=0.0"
     ],
     "language": "python",
     "metadata": {},
     "outputs": []
    },
    {
     "cell_type": "code",
     "collapsed": false,
     "input": [
      "plot(I)"
     ],
     "language": "python",
     "metadata": {},
     "outputs": []
    },
    {
     "cell_type": "code",
     "collapsed": false,
     "input": [
      "g = ExpFun.EFun( (x,y) -> exp(x+y), I)"
     ],
     "language": "python",
     "metadata": {},
     "outputs": []
    },
    {
     "cell_type": "code",
     "collapsed": false,
     "input": [
      "plot(g)"
     ],
     "language": "python",
     "metadata": {},
     "outputs": []
    },
    {
     "cell_type": "code",
     "collapsed": false,
     "input": [],
     "language": "python",
     "metadata": {},
     "outputs": []
    },
    {
     "cell_type": "heading",
     "level": 5,
     "metadata": {},
     "source": [
      "Simple domains and harder functions"
     ]
    },
    {
     "cell_type": "code",
     "collapsed": false,
     "input": [
      "dom = ExpFun.randomcircles(10)"
     ],
     "language": "python",
     "metadata": {},
     "outputs": []
    },
    {
     "cell_type": "code",
     "collapsed": false,
     "input": [
      "plot(dom, n=200)"
     ],
     "language": "python",
     "metadata": {},
     "outputs": []
    },
    {
     "cell_type": "code",
     "collapsed": false,
     "input": [
      "@time f2 = EFun( (x,y) -> cos(40*(x+y)), dom, dof=100, method=\"lsqr\")"
     ],
     "language": "python",
     "metadata": {},
     "outputs": []
    },
    {
     "cell_type": "code",
     "collapsed": false,
     "input": [
      "plot(f2)"
     ],
     "language": "python",
     "metadata": {},
     "outputs": []
    },
    {
     "cell_type": "code",
     "collapsed": false,
     "input": [
      "plot_extension(f2)"
     ],
     "language": "python",
     "metadata": {},
     "outputs": []
    },
    {
     "cell_type": "code",
     "collapsed": false,
     "input": [],
     "language": "python",
     "metadata": {},
     "outputs": []
    },
    {
     "cell_type": "code",
     "collapsed": false,
     "input": [],
     "language": "python",
     "metadata": {},
     "outputs": []
    },
    {
     "cell_type": "heading",
     "level": 5,
     "metadata": {},
     "source": [
      "Fractal domains"
     ]
    },
    {
     "cell_type": "code",
     "collapsed": false,
     "input": [
      "mandelbrot = Mandelbrot()"
     ],
     "language": "python",
     "metadata": {},
     "outputs": []
    },
    {
     "cell_type": "code",
     "collapsed": false,
     "input": [
      "plot(mandelbrot, n=201)"
     ],
     "language": "python",
     "metadata": {},
     "outputs": []
    },
    {
     "cell_type": "code",
     "collapsed": false,
     "input": [
      "f1 = EFun( (x,y) -> cos(x*y), mandelbrot)"
     ],
     "language": "python",
     "metadata": {},
     "outputs": []
    },
    {
     "cell_type": "code",
     "collapsed": false,
     "input": [
      "plot(f1)"
     ],
     "language": "python",
     "metadata": {},
     "outputs": []
    },
    {
     "cell_type": "code",
     "collapsed": false,
     "input": [
      "plot_extension(f1)"
     ],
     "language": "python",
     "metadata": {},
     "outputs": []
    },
    {
     "cell_type": "code",
     "collapsed": false,
     "input": [
      "julia = JuliaSet()"
     ],
     "language": "python",
     "metadata": {},
     "outputs": []
    },
    {
     "cell_type": "code",
     "collapsed": false,
     "input": [
      "plot(julia, n=200)"
     ],
     "language": "python",
     "metadata": {},
     "outputs": []
    },
    {
     "cell_type": "code",
     "collapsed": false,
     "input": [
      "f2 = EFun( (x,y) -> cos(10*x*y), julia, dof=31)"
     ],
     "language": "python",
     "metadata": {},
     "outputs": []
    },
    {
     "cell_type": "code",
     "collapsed": false,
     "input": [
      "plot(f2)"
     ],
     "language": "python",
     "metadata": {},
     "outputs": []
    },
    {
     "cell_type": "code",
     "collapsed": false,
     "input": [
      "plot_accuracy(f2, (x,y) -> cos(10*x*y))"
     ],
     "language": "python",
     "metadata": {},
     "outputs": []
    },
    {
     "cell_type": "code",
     "collapsed": false,
     "input": [
      "plot_extension(f2)"
     ],
     "language": "python",
     "metadata": {},
     "outputs": []
    },
    {
     "cell_type": "code",
     "collapsed": false,
     "input": [],
     "language": "python",
     "metadata": {},
     "outputs": []
    },
    {
     "cell_type": "code",
     "collapsed": false,
     "input": [],
     "language": "python",
     "metadata": {},
     "outputs": []
    },
    {
     "cell_type": "heading",
     "level": 3,
     "metadata": {},
     "source": [
      "3D approximations"
     ]
    },
    {
     "cell_type": "heading",
     "level": 5,
     "metadata": {},
     "source": [
      "Simple domains and simple functions"
     ]
    },
    {
     "cell_type": "code",
     "collapsed": false,
     "input": [
      "S = Sphere(1.0)"
     ],
     "language": "python",
     "metadata": {},
     "outputs": []
    },
    {
     "cell_type": "code",
     "collapsed": false,
     "input": [
      "plot(S)"
     ],
     "language": "python",
     "metadata": {},
     "outputs": []
    },
    {
     "cell_type": "code",
     "collapsed": false,
     "input": [
      "f3 = EFun( (x,y,z) -> cos(x-2y+3z), Sphere(1.0), dof=5)"
     ],
     "language": "python",
     "metadata": {},
     "outputs": []
    },
    {
     "cell_type": "code",
     "collapsed": false,
     "input": [
      "plot(f3)"
     ],
     "language": "python",
     "metadata": {},
     "outputs": []
    },
    {
     "cell_type": "code",
     "collapsed": false,
     "input": [
      "plotslice(f3)"
     ],
     "language": "python",
     "metadata": {},
     "outputs": []
    },
    {
     "cell_type": "code",
     "collapsed": false,
     "input": [],
     "language": "python",
     "metadata": {},
     "outputs": []
    },
    {
     "cell_type": "code",
     "collapsed": false,
     "input": [],
     "language": "python",
     "metadata": {},
     "outputs": []
    },
    {
     "cell_type": "code",
     "collapsed": false,
     "input": [],
     "language": "python",
     "metadata": {},
     "outputs": []
    },
    {
     "cell_type": "heading",
     "level": 5,
     "metadata": {},
     "source": [
      "Harder domains"
     ]
    },
    {
     "cell_type": "code",
     "collapsed": false,
     "input": [
      "sphere1 = ExpFun.Sphere(0.25)\n",
      "spheres = ExpFun.DomainCollection(sphere1)\n",
      "push!(spheres, sphere1 + [ 0.6, 0.6, 0.6])\n",
      "push!(spheres, sphere1 + [ 0.6, 0.6,-0.6])\n",
      "push!(spheres, sphere1 + [ 0.6,-0.6, 0.6])\n",
      "push!(spheres, sphere1 + [ 0.6,-0.6,-0.6])\n",
      "push!(spheres, sphere1 + [-0.6, 0.6, 0.6])\n",
      "push!(spheres, sphere1 + [-0.6, 0.6,-0.6])\n",
      "push!(spheres, sphere1 + [-0.6,-0.6, 0.6])\n",
      "push!(spheres, sphere1 + [-0.6,-0.6,-0.6])\n",
      "cyl1 = ExpFun.Cylinder(0.10, 1.2)\n",
      "push!(spheres, cyl1 + [-0.6, 0.6, 0.6]);\n",
      "push!(spheres, cyl1 + [-0.6,-0.6, 0.6]);\n",
      "push!(spheres, cyl1 + [-0.6, 0.6,-0.6]);\n",
      "push!(spheres, cyl1 + [-0.6,-0.6,-0.6]);\n",
      "cyl2 = ExpFun.rotate(cyl1, 0.0, 0.0, pi/2.0)\n",
      "push!(spheres, cyl2 + [ 0.6, -0.6, 0.6])\n",
      "push!(spheres, cyl2 + [-0.6, -0.6, 0.6])\n",
      "push!(spheres, cyl2 + [ 0.6, -0.6,-0.6])\n",
      "push!(spheres, cyl2 + [-0.6, -0.6,-0.6])\n",
      "cyl3 = ExpFun.Cylinder(0.10, 1.2*sqrt(3))\n",
      "cyl3 = ExpFun.rotate(cyl3, 0.0, asin(1/sqrt(3)), 0.0)\n",
      "cyl3 = ExpFun.rotate(cyl3, 0.0, 0.0, pi/4)\n",
      "push!(spheres, cyl3 + [ -0.6, -0.6, +0.6])\n",
      "cyl4 = ExpFun.Cylinder(0.10, 1.2*sqrt(3))\n",
      "cyl4 = ExpFun.rotate(cyl4, 0.0, -asin(1/sqrt(3)), 0.0)\n",
      "cyl4 = ExpFun.rotate(cyl4, 0.0, 0.0, pi/4)\n",
      "push!(spheres, cyl4 + [ -0.6, -0.6, -0.6])\n",
      "cyl5 = ExpFun.Cylinder(0.10, 1.2*sqrt(3))\n",
      "cyl5 = ExpFun.rotate(cyl5, 0.0, asin(1/sqrt(3)), 0.0)\n",
      "cyl5 = ExpFun.rotate(cyl5, 0.0, 0.0, -pi/4)\n",
      "push!(spheres, cyl5 + [ -0.6, +0.6, +0.6])\n",
      "cyl6 = ExpFun.Cylinder(0.10, 1.2*sqrt(3))\n",
      "cyl6 = ExpFun.rotate(cyl6, 0.0, -asin(1/sqrt(3)), 0.0)\n",
      "cyl6 = ExpFun.rotate(cyl6, 0.0, 0.0, -pi/4)\n",
      "push!(spheres, cyl6 + [ -0.6, +0.6, -0.6])\n",
      "spheres.box = ExpFun.unitbox3\n",
      "atomium = spheres"
     ],
     "language": "python",
     "metadata": {},
     "outputs": []
    },
    {
     "cell_type": "code",
     "collapsed": false,
     "input": [
      "plot(atomium, n=50)"
     ],
     "language": "python",
     "metadata": {},
     "outputs": []
    },
    {
     "cell_type": "code",
     "collapsed": false,
     "input": [
      "f3 = EFun( (x,y,z) -> cos(x+y-2*z), atomium, dof=5)"
     ],
     "language": "python",
     "metadata": {},
     "outputs": []
    },
    {
     "cell_type": "code",
     "collapsed": false,
     "input": [
      "plot(f3)"
     ],
     "language": "python",
     "metadata": {},
     "outputs": []
    },
    {
     "cell_type": "code",
     "collapsed": false,
     "input": [
      "plotslice(f3)"
     ],
     "language": "python",
     "metadata": {},
     "outputs": []
    },
    {
     "cell_type": "code",
     "collapsed": false,
     "input": [],
     "language": "python",
     "metadata": {},
     "outputs": []
    },
    {
     "cell_type": "code",
     "collapsed": false,
     "input": [],
     "language": "python",
     "metadata": {},
     "outputs": []
    },
    {
     "cell_type": "heading",
     "level": 5,
     "metadata": {},
     "source": [
      "Harder functions?"
     ]
    },
    {
     "cell_type": "code",
     "collapsed": false,
     "input": [
      "f3 = EFun( (x,y,z) -> cos(40*(x+y-2*z)), unitsphere, dof=21, method=\"lsqr\")"
     ],
     "language": "python",
     "metadata": {},
     "outputs": []
    },
    {
     "cell_type": "code",
     "collapsed": false,
     "input": [
      "plotslice(f3)"
     ],
     "language": "python",
     "metadata": {},
     "outputs": []
    },
    {
     "cell_type": "code",
     "collapsed": false,
     "input": [],
     "language": "python",
     "metadata": {},
     "outputs": []
    },
    {
     "cell_type": "code",
     "collapsed": false,
     "input": [
      "f3 = EFun( (x,y,z) -> cos(40*(x+y-2*z)), unitsphere, dof=51, method=\"lsqr\")"
     ],
     "language": "python",
     "metadata": {},
     "outputs": []
    },
    {
     "cell_type": "code",
     "collapsed": false,
     "input": [],
     "language": "python",
     "metadata": {},
     "outputs": []
    },
    {
     "cell_type": "code",
     "collapsed": false,
     "input": [],
     "language": "python",
     "metadata": {},
     "outputs": []
    }
   ],
   "metadata": {}
  }
 ]
}